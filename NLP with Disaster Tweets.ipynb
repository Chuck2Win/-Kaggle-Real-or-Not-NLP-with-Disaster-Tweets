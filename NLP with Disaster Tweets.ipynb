{
 "cells": [
  {
   "cell_type": "code",
   "execution_count": null,
   "metadata": {},
   "outputs": [],
   "source": [
    "# data의 text를 통해서 disaster관련 문장이면 target 1 아니면 0\n",
    "\n",
    "# initial method\n",
    "\n",
    "# text -> tokenized \n",
    "\n",
    "# using pre trained word embedding (Word2Vec)\n",
    "\n",
    "# GRU (bidirectional)\n",
    "\n",
    "# result\n",
    "\n",
    "# input data : text\n",
    "\n",
    "# output data : target(digit 0,1)\n",
    "\n",
    "#  model : architecture (GRU) // params : (embedding,GRU의 params)\n",
    "\n",
    "# cost : binary_cross_entropy"
   ]
  },
  {
   "cell_type": "code",
   "execution_count": 2,
   "metadata": {},
   "outputs": [],
   "source": [
    "import numpy\n",
    "import torch\n",
    "import torch.nn as nn\n",
    "import torch.nn.functional as F\n",
    "import pandas as pd\n",
    "from pandas import DataFrame as df\n",
    "import nltk\n",
    "from matplotlib import pyplot as plt"
   ]
  },
  {
   "cell_type": "code",
   "execution_count": 7,
   "metadata": {},
   "outputs": [],
   "source": [
    "data=pd.read_csv('./Desktop/train.csv',header=0)"
   ]
  },
  {
   "cell_type": "code",
   "execution_count": 38,
   "metadata": {},
   "outputs": [
    {
     "name": "stdout",
     "output_type": "stream",
     "text": [
      "0    our deeds are the reason of this earthquake ma...\n",
      "1               forest fire near la ronge sask. canada\n",
      "2    all residents asked to shelter in place are be...\n",
      "3    13,000 people receive wildfires evacuation ord...\n",
      "4    just got sent this photo from ruby alaska as s...\n",
      "5    rockyfire update  california hwy. 20 closed in...\n",
      "6    flood disaster heavy rain causes flash floodin...\n",
      "7    im on top of the hill and i can see a fire in ...\n",
      "8    theres an emergency evacuation happening now i...\n",
      "9    im afraid that the tornado is coming to our ar...\n",
      "Name: post_text, dtype: object\n"
     ]
    }
   ],
   "source": [
    "# 1. text data pre processing\n",
    "# cleanse, tokenize, encoding, vectorize\n",
    "\n",
    "# 1.1. cleanse\n",
    "import re\n",
    "# 이전엔 그냥 str의 replace 활용했는데 #는 못바꾸넹..\n",
    "# 대문자 -> 소문자\n",
    "# 특수문자 제거 (구두점, 쉼표 제외)\n",
    "def cleanse(sentence):\n",
    "    result=sentence.lower()\n",
    "    result=re.sub('[^0-9a-z ,.]','',result)\n",
    "    return result\n",
    "data['post_text']=data['text'].apply(lambda i : cleanse(i))\n",
    "print(data.post_text[:10])"
   ]
  },
  {
   "cell_type": "code",
   "execution_count": 39,
   "metadata": {},
   "outputs": [],
   "source": [
    "# # of data\n",
    "len(data) #7613\n",
    "# train_dev split\n",
    "from sklearn.model_selection import train_test_split\n",
    "train_data,val_data=train_test_split(data,test_size=613) # train data 7000, val data 613"
   ]
  },
  {
   "cell_type": "code",
   "execution_count": 64,
   "metadata": {},
   "outputs": [
    {
     "name": "stderr",
     "output_type": "stream",
     "text": [
      "[nltk_data] Downloading package punkt to\n",
      "[nltk_data]     C:\\Users\\UNIMAX\\AppData\\Roaming\\nltk_data...\n",
      "[nltk_data]   Package punkt is already up-to-date!\n"
     ]
    },
    {
     "name": "stdout",
     "output_type": "stream",
     "text": [
      "[['megadeth', 'week', 'symphony', 'of', 'destruction', 'httpt.coecd7hizja1'], ['confirmed', 'the', 'debris', 'from', 'mh370'], ['must', 'get', 'hot', 'in', 'burning', 'buildingsloses', 'followers', 'httpst.co8sp8xlbbdr'], ['stormbeard', 'steellord', 'i', 'seen', 'judas', 'priest', 'in', '2005', 'when', 'rob', 'came', 'back', 'scorpions', 'as', 'support', '.', 'fucking', 'annihilated', 'the', 'place', '.', 'astonishing', 'gig'], ['losdelsonido', 'obama', 'declares', 'disaster', 'for', 'typhoondevastated', 'saipan', 'obama', 'signs', 'disaster', 'declaration', 'for', 'northern', 'ma', '...', 'ivanberroa'], ['hey', 'there', 'lonely', 'girldid', 'you', 'have', 'to', 'tell', 'your', 'friendsabout', 'the', 'way', 'i', 'got', 'you', 'screaming', 'my', 'name'], ['56', 'will', 'destroy', 'reg', 'c', 'competitiveness', '.', 'the', 'entire', 'region', 'will', 'b', 'oversaturated', '.', 'yes', 'brockton', 'gets', '12m', 'and', 'regc', 'commonwealth', 'ppc', 'and'], ['devinjoslyn', 'thunder', 'and', 'lighting'], ['large', 'fire', 'burning', 'several', 'buildings', 'causing', 'evacuations', 'in', 'downtown', 'hinton', 'httpt.comtmkimwiyy'], ['the', 'latest', 'more', 'homes', 'razed', 'by', 'northern', 'california', 'wildfire', 'abc', 'news', 'httpt.coly8x7rqbwn']]\n"
     ]
    },
    {
     "data": {
      "text/html": [
       "<div>\n",
       "<style scoped>\n",
       "    .dataframe tbody tr th:only-of-type {\n",
       "        vertical-align: middle;\n",
       "    }\n",
       "\n",
       "    .dataframe tbody tr th {\n",
       "        vertical-align: top;\n",
       "    }\n",
       "\n",
       "    .dataframe thead th {\n",
       "        text-align: right;\n",
       "    }\n",
       "</style>\n",
       "<table border=\"1\" class=\"dataframe\">\n",
       "  <thead>\n",
       "    <tr style=\"text-align: right;\">\n",
       "      <th></th>\n",
       "      <th>id</th>\n",
       "      <th>keyword</th>\n",
       "      <th>location</th>\n",
       "      <th>text</th>\n",
       "      <th>target</th>\n",
       "      <th>post_text</th>\n",
       "    </tr>\n",
       "  </thead>\n",
       "  <tbody>\n",
       "    <tr>\n",
       "      <td>2633</td>\n",
       "      <td>3776</td>\n",
       "      <td>destruction</td>\n",
       "      <td>Manchester, UK</td>\n",
       "      <td>Megadeth Week - Symphony Of Destruction http:/...</td>\n",
       "      <td>0</td>\n",
       "      <td>megadeth week  symphony of destruction httpt.c...</td>\n",
       "    </tr>\n",
       "    <tr>\n",
       "      <td>2167</td>\n",
       "      <td>3108</td>\n",
       "      <td>debris</td>\n",
       "      <td>NaN</td>\n",
       "      <td>Confirmed the debris from MH370 ??</td>\n",
       "      <td>1</td>\n",
       "      <td>confirmed the debris from mh370</td>\n",
       "    </tr>\n",
       "    <tr>\n",
       "      <td>1223</td>\n",
       "      <td>1762</td>\n",
       "      <td>buildings%20burning</td>\n",
       "      <td>England, United Kingdom</td>\n",
       "      <td>Must get hot in burning buildings\\n\\n-loses fo...</td>\n",
       "      <td>1</td>\n",
       "      <td>must get hot in burning buildingsloses followe...</td>\n",
       "    </tr>\n",
       "    <tr>\n",
       "      <td>232</td>\n",
       "      <td>331</td>\n",
       "      <td>annihilated</td>\n",
       "      <td>West Lancashire, UK.</td>\n",
       "      <td>@stormbeard @steel_lord I seen Judas Priest in...</td>\n",
       "      <td>0</td>\n",
       "      <td>stormbeard steellord i seen judas priest in 20...</td>\n",
       "    </tr>\n",
       "    <tr>\n",
       "      <td>2719</td>\n",
       "      <td>3905</td>\n",
       "      <td>devastated</td>\n",
       "      <td>REPUBLICA DOMINICANA</td>\n",
       "      <td>(#LosDelSonido) Obama Declares Disaster for Ty...</td>\n",
       "      <td>1</td>\n",
       "      <td>losdelsonido obama declares disaster for typho...</td>\n",
       "    </tr>\n",
       "    <tr>\n",
       "      <td>5972</td>\n",
       "      <td>8526</td>\n",
       "      <td>screaming</td>\n",
       "      <td>Aveiro, Portugal</td>\n",
       "      <td>Hey there lonely girl\\nDid you have to tell yo...</td>\n",
       "      <td>0</td>\n",
       "      <td>hey there lonely girldid you have to tell your...</td>\n",
       "    </tr>\n",
       "    <tr>\n",
       "      <td>2564</td>\n",
       "      <td>3679</td>\n",
       "      <td>destroy</td>\n",
       "      <td>New England</td>\n",
       "      <td>5/6 will destroy Reg C competitiveness.   The ...</td>\n",
       "      <td>1</td>\n",
       "      <td>56 will destroy reg c competitiveness.   the e...</td>\n",
       "    </tr>\n",
       "    <tr>\n",
       "      <td>6676</td>\n",
       "      <td>9567</td>\n",
       "      <td>thunder</td>\n",
       "      <td>NaN</td>\n",
       "      <td>@DevinJoslyn thunder and lighting ????</td>\n",
       "      <td>0</td>\n",
       "      <td>devinjoslyn thunder and lighting</td>\n",
       "    </tr>\n",
       "    <tr>\n",
       "      <td>1351</td>\n",
       "      <td>1952</td>\n",
       "      <td>burning%20buildings</td>\n",
       "      <td>Oklahoma City, OK</td>\n",
       "      <td>Large fire burning several buildings causing e...</td>\n",
       "      <td>1</td>\n",
       "      <td>large fire burning several buildings causing e...</td>\n",
       "    </tr>\n",
       "    <tr>\n",
       "      <td>5584</td>\n",
       "      <td>7969</td>\n",
       "      <td>razed</td>\n",
       "      <td>NaN</td>\n",
       "      <td>The Latest: More Homes Razed by Northern Calif...</td>\n",
       "      <td>1</td>\n",
       "      <td>the latest more homes razed by northern califo...</td>\n",
       "    </tr>\n",
       "  </tbody>\n",
       "</table>\n",
       "</div>"
      ],
      "text/plain": [
       "        id              keyword                 location  \\\n",
       "2633  3776          destruction           Manchester, UK   \n",
       "2167  3108               debris                      NaN   \n",
       "1223  1762  buildings%20burning  England, United Kingdom   \n",
       "232    331          annihilated     West Lancashire, UK.   \n",
       "2719  3905           devastated     REPUBLICA DOMINICANA   \n",
       "5972  8526            screaming         Aveiro, Portugal   \n",
       "2564  3679              destroy              New England   \n",
       "6676  9567              thunder                      NaN   \n",
       "1351  1952  burning%20buildings        Oklahoma City, OK   \n",
       "5584  7969                razed                      NaN   \n",
       "\n",
       "                                                   text  target  \\\n",
       "2633  Megadeth Week - Symphony Of Destruction http:/...       0   \n",
       "2167                 Confirmed the debris from MH370 ??       1   \n",
       "1223  Must get hot in burning buildings\\n\\n-loses fo...       1   \n",
       "232   @stormbeard @steel_lord I seen Judas Priest in...       0   \n",
       "2719  (#LosDelSonido) Obama Declares Disaster for Ty...       1   \n",
       "5972  Hey there lonely girl\\nDid you have to tell yo...       0   \n",
       "2564  5/6 will destroy Reg C competitiveness.   The ...       1   \n",
       "6676             @DevinJoslyn thunder and lighting ????       0   \n",
       "1351  Large fire burning several buildings causing e...       1   \n",
       "5584  The Latest: More Homes Razed by Northern Calif...       1   \n",
       "\n",
       "                                              post_text  \n",
       "2633  megadeth week  symphony of destruction httpt.c...  \n",
       "2167                   confirmed the debris from mh370   \n",
       "1223  must get hot in burning buildingsloses followe...  \n",
       "232   stormbeard steellord i seen judas priest in 20...  \n",
       "2719  losdelsonido obama declares disaster for typho...  \n",
       "5972  hey there lonely girldid you have to tell your...  \n",
       "2564  56 will destroy reg c competitiveness.   the e...  \n",
       "6676                  devinjoslyn thunder and lighting   \n",
       "1351  large fire burning several buildings causing e...  \n",
       "5584  the latest more homes razed by northern califo...  "
      ]
     },
     "execution_count": 64,
     "metadata": {},
     "output_type": "execute_result"
    }
   ],
   "source": [
    "# nltk로 tokenize\n",
    "# 1.2. tokenize\n",
    "import nltk\n",
    "nltk.download('punkt')\n",
    "from nltk.tokenize import word_tokenize\n",
    "# train_text_tokenized=word_tokenize(train_data.post_text) #-> error 발생\n",
    "Result=[]\n",
    "odd=[]\n",
    "for i in train_data.index:\n",
    "    result=word_tokenize(train_data.post_text[i])\n",
    "    Result.append(result)\n",
    "print(Result[:10])\n",
    "train_data[:10]"
   ]
  },
  {
   "cell_type": "code",
   "execution_count": 60,
   "metadata": {},
   "outputs": [
    {
     "data": {
      "text/plain": [
       "[]"
      ]
     },
     "execution_count": 60,
     "metadata": {},
     "output_type": "execute_result"
    }
   ],
   "source": [
    "odd"
   ]
  },
  {
   "cell_type": "code",
   "execution_count": 46,
   "metadata": {},
   "outputs": [],
   "source": [
    "# 1.3 word embedding (vectorize+encoding)\n",
    "from gensim.models import Word2Vec\n",
    "word2vec=Word2Vec()"
   ]
  }
 ],
 "metadata": {
  "kernelspec": {
   "display_name": "Python 3",
   "language": "python",
   "name": "python3"
  },
  "language_info": {
   "codemirror_mode": {
    "name": "ipython",
    "version": 3
   },
   "file_extension": ".py",
   "mimetype": "text/x-python",
   "name": "python",
   "nbconvert_exporter": "python",
   "pygments_lexer": "ipython3",
   "version": "3.7.4"
  }
 },
 "nbformat": 4,
 "nbformat_minor": 2
}
