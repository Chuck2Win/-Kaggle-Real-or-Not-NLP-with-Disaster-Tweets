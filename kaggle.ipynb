{
  "nbformat": 4,
  "nbformat_minor": 0,
  "metadata": {
    "colab": {
      "name": "kaggle",
      "provenance": [],
      "collapsed_sections": [],
      "authorship_tag": "ABX9TyOLrSEa3Ffzz7+mAhTuL+a1",
      "include_colab_link": true
    },
    "kernelspec": {
      "name": "python3",
      "display_name": "Python 3"
    },
    "accelerator": "GPU"
  },
  "cells": [
    {
      "cell_type": "markdown",
      "metadata": {
        "id": "view-in-github",
        "colab_type": "text"
      },
      "source": [
        "<a href=\"https://colab.research.google.com/github/Chuck2Win/-Kaggle-Real-or-Not-NLP-with-Disaster-Tweets/blob/cnn/kaggle.ipynb\" target=\"_parent\"><img src=\"https://colab.research.google.com/assets/colab-badge.svg\" alt=\"Open In Colab\"/></a>"
      ]
    },
    {
      "cell_type": "code",
      "metadata": {
        "id": "sIbiYx2IWWEX",
        "colab_type": "code",
        "outputId": "6ba570da-0423-4821-b1eb-8b7c659279a8",
        "colab": {
          "base_uri": "https://localhost:8080/",
          "height": 160
        }
      },
      "source": [
        "import numpy as np\n",
        "import torch\n",
        "import torch.nn as nn\n",
        "import torch.nn.functional as F\n",
        "import pandas as pd\n",
        "from pandas import DataFrame as df\n",
        "import nltk\n",
        "from matplotlib import pyplot as plt\n",
        "from google.colab import drive\n",
        "import os\n",
        "\n",
        "drive.mount('/content/gdrive')\n",
        "print(os.getcwd()) # current working directory 확인\n",
        "new_path=('/content/gdrive/My Drive/kaggle')\n",
        "os.chdir(new_path)\n",
        "print(os.getcwd())\n",
        "\n",
        "# file uplaod\n",
        "# from google.colab import files\n",
        "# uploaded=files.upload()"
      ],
      "execution_count": 1,
      "outputs": [
        {
          "output_type": "stream",
          "text": [
            "Go to this URL in a browser: https://accounts.google.com/o/oauth2/auth?client_id=947318989803-6bn6qk8qdgf4n4g3pfee6491hc0brc4i.apps.googleusercontent.com&redirect_uri=urn%3aietf%3awg%3aoauth%3a2.0%3aoob&response_type=code&scope=email%20https%3a%2f%2fwww.googleapis.com%2fauth%2fdocs.test%20https%3a%2f%2fwww.googleapis.com%2fauth%2fdrive%20https%3a%2f%2fwww.googleapis.com%2fauth%2fdrive.photos.readonly%20https%3a%2f%2fwww.googleapis.com%2fauth%2fpeopleapi.readonly\n",
            "\n",
            "Enter your authorization code:\n",
            "··········\n",
            "Mounted at /content/gdrive\n",
            "/content\n",
            "/content/gdrive/My Drive/kaggle\n"
          ],
          "name": "stdout"
        }
      ]
    },
    {
      "cell_type": "code",
      "metadata": {
        "id": "Mfr5RtW8wfcL",
        "colab_type": "code",
        "colab": {
          "resources": {
            "http://localhost:8080/nbextensions/google.colab/files.js": {
              "data": "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",
              "ok": true,
              "headers": [
                [
                  "content-type",
                  "application/javascript"
                ]
              ],
              "status": 200,
              "status_text": ""
            }
          },
          "base_uri": "https://localhost:8080/",
          "height": 78
        },
        "outputId": "836e639c-d070-406b-a26d-66dba7a81dce"
      },
      "source": [
        "from google.colab import files\n",
        "uploaded=files.upload()"
      ],
      "execution_count": 2,
      "outputs": [
        {
          "output_type": "display_data",
          "data": {
            "text/html": [
              "\n",
              "     <input type=\"file\" id=\"files-f2dca0b6-1e5e-4d3b-ac1d-58c321330588\" name=\"files[]\" multiple disabled />\n",
              "     <output id=\"result-f2dca0b6-1e5e-4d3b-ac1d-58c321330588\">\n",
              "      Upload widget is only available when the cell has been executed in the\n",
              "      current browser session. Please rerun this cell to enable.\n",
              "      </output>\n",
              "      <script src=\"/nbextensions/google.colab/files.js\"></script> "
            ],
            "text/plain": [
              "<IPython.core.display.HTML object>"
            ]
          },
          "metadata": {
            "tags": []
          }
        },
        {
          "output_type": "stream",
          "text": [
            "Saving test.csv to test.csv\n"
          ],
          "name": "stdout"
        }
      ]
    },
    {
      "cell_type": "code",
      "metadata": {
        "id": "4034d-i2XOE5",
        "colab_type": "code",
        "outputId": "87986553-bf72-4ed4-99be-0c91de2e540b",
        "colab": {
          "base_uri": "https://localhost:8080/",
          "height": 862
        }
      },
      "source": [
        "data=pd.read_csv('./train.csv',header=0,index_col=0)\n",
        "test_data=pd.read_csv('./test.csv',header=0,index_col=0)\n",
        "print(data.head())\n",
        "# 1. text data pre processing\n",
        "# cleanse, tokenize, encoding, vectorize\n",
        "\n",
        "# 1.1. cleanse\n",
        "import re\n",
        "# 이전엔 그냥 str의 replace 활용했는데 #는 못바꾸넹..\n",
        "# 대문자 -> 소문자\n",
        "# 특수문자 제거 (구두점, 쉼표 제외)\n",
        "# http 부분 제거 -> split으로 한 다음에 http 가 있다면 그 부분을 지우고 다시 합치자\n",
        "def cleanse(sentence):\n",
        "    result=sentence.lower()\n",
        "    result=re.sub('[^a-z ,.]','',result)\n",
        "    result=[i for i in result.split() if 'http' not in i]\n",
        "    Result=''\n",
        "    for i in result:\n",
        "        Result=Result+i+' '\n",
        "    return Result\n",
        "data['post_text']=data['text'].apply(lambda i : cleanse(i))\n",
        "test_data['post_text']=test_data['text'].apply(lambda i : cleanse(i))\n",
        "print(data.post_text[:30])\n",
        "# # of data\n",
        "len(data) #7613\n",
        "# train_dev split\n",
        "from sklearn.model_selection import train_test_split\n",
        "train_data,val_data=train_test_split(data,test_size=613,shuffle=True) # train data 7000, val da\n",
        "# nltk로 tokenize\n",
        "# 1.2. tokenize\n",
        "import nltk\n",
        "nltk.download('punkt')\n",
        "from nltk.tokenize import word_tokenize\n",
        "# train_text_tokenized=word_tokenize(train_data.post_text) #-> error 발생 -> 애초에 word_tokenize는 str을 위한 것\n",
        "\n",
        "# http가 들어간 sentence들이 있어서 그 부분은 제거해주자.\n",
        "def word_tokenize_1(sentence):\n",
        "    j=word_tokenize(sentence)\n",
        "    result=[i for i in j if 'http' not in i] \n",
        "    return result\n",
        "sentence_tokenized=train_data['post_text'].apply(lambda i : word_tokenize_1(i))\n",
        "print(sentence_tokenized.head())"
      ],
      "execution_count": 7,
      "outputs": [
        {
          "output_type": "stream",
          "text": [
            "   keyword location                                               text  target\n",
            "id                                                                            \n",
            "1      NaN      NaN  Our Deeds are the Reason of this #earthquake M...       1\n",
            "4      NaN      NaN             Forest fire near La Ronge Sask. Canada       1\n",
            "5      NaN      NaN  All residents asked to 'shelter in place' are ...       1\n",
            "6      NaN      NaN  13,000 people receive #wildfires evacuation or...       1\n",
            "7      NaN      NaN  Just got sent this photo from Ruby #Alaska as ...       1\n",
            "id\n",
            "1     our deeds are the reason of this earthquake ma...\n",
            "4               forest fire near la ronge sask. canada \n",
            "5     all residents asked to shelter in place are be...\n",
            "6     , people receive wildfires evacuation orders i...\n",
            "7     just got sent this photo from ruby alaska as s...\n",
            "8     rockyfire update california hwy. closed in bot...\n",
            "10    flood disaster heavy rain causes flash floodin...\n",
            "13    im on top of the hill and i can see a fire in ...\n",
            "14    theres an emergency evacuation happening now i...\n",
            "15    im afraid that the tornado is coming to our ar...\n",
            "16         three people died from the heat wave so far \n",
            "17    haha south tampa is getting flooded hah wait a...\n",
            "18    raining flooding florida tampabay tampa or day...\n",
            "19               flood in bago myanmar we arrived bago \n",
            "20    damage to school bus on in multi car crash bre...\n",
            "23                                        whats up man \n",
            "24                                       i love fruits \n",
            "25                                    summer is lovely \n",
            "26                                   my car is so fast \n",
            "28                              what a goooooooaaaaaal \n",
            "31                              this is ridiculous.... \n",
            "32                                      london is cool \n",
            "33                                         love skiing \n",
            "34                                what a wonderful day \n",
            "36                                            looooool \n",
            "37                       no way...i cant eat that shit \n",
            "38                                was in nyc last week \n",
            "39                                  love my girlfriend \n",
            "40                                              cooool \n",
            "41                                   do you like pasta \n",
            "Name: post_text, dtype: object\n",
            "[nltk_data] Downloading package punkt to /root/nltk_data...\n",
            "[nltk_data]   Package punkt is already up-to-date!\n",
            "id\n",
            "3477    [breakfast, links, work, from, home, derailed,...\n",
            "9450            [preacher, faces, uk, terrorism, charges]\n",
            "8801                    [fuck, sleeping, with, sirens, .]\n",
            "8710    [ap, too, slow, report, the, sinking, boat, in...\n",
            "5668    [ictyosaur, i, never, thought, it, would, be, ...\n",
            "Name: post_text, dtype: object\n"
          ],
          "name": "stdout"
        }
      ]
    },
    {
      "cell_type": "code",
      "metadata": {
        "id": "XA1M5yjjxNbt",
        "colab_type": "code",
        "colab": {
          "base_uri": "https://localhost:8080/",
          "height": 122
        },
        "outputId": "e6bbc5a6-e774-4ef2-f2d2-07bb683c7309"
      },
      "source": [
        "print('train data')\n",
        "print(len(train_data)) # 7000\n",
        "print('val data')\n",
        "print(len(val_data)) # 613\n",
        "print('test data')\n",
        "print(len(test_data)) # # 3263"
      ],
      "execution_count": 6,
      "outputs": [
        {
          "output_type": "stream",
          "text": [
            "train data\n",
            "7000\n",
            "val data\n",
            "613\n",
            "test data\n",
            "3263\n"
          ],
          "name": "stdout"
        }
      ]
    },
    {
      "cell_type": "code",
      "metadata": {
        "id": "AoBmhELHXg4H",
        "colab_type": "code",
        "colab": {}
      },
      "source": [
        "# 1 preprocessing\n",
        "# torchtext를 활용하면 한방에(tokenize,wordembedding,padding ...)\n",
        "# SOS,EOS,padding,fix_len : 40 (애초에 twitter는 글자수 제한이 280)\n",
        "import torchtext\n",
        "# Field 정의\n",
        "# Text <- padding 하지 말아라\n",
        "Text=torchtext.data.Field(sequential=True,use_vocab=True,tokenize=word_tokenize_1,batch_first=True,lower=True,fix_length=None,)\n",
        "Target=torchtext.data.Field(sequential=False,use_vocab=False,batch_first=True,is_target=True)\n",
        "Id=torchtext.data.Field(sequential=False,use_vocab=False,batch_first=True)\n",
        "\n",
        "# Data 정의\n",
        "# 영어와 ., 만을 남긴 csv 형태로 넘겨주자\n",
        "# 또한 http부분을 제거\n",
        "train_data[['post_text','target']].to_csv('train_data.csv',index=True)\n",
        "val_data[['post_text','target']].to_csv('val_data.csv',index=True)\n",
        "test_data[['post_text']].to_csv('test_data.csv',index=True)\n",
        "train_data_1=torchtext.data.TabularDataset('./train_data.csv',format='csv',fields=[('id',Id),('text',Text),('target',Target)],\n",
        "                                           skip_header=True)\n",
        "val_data_1=torchtext.data.TabularDataset('./val_data.csv',format='csv',fields=[('id',Id),('text',Text),('target',Target)],\n",
        "                                           skip_header=True)\n",
        "# test data는 target이 없다..\n",
        "test_data_1=torchtext.data.TabularDataset('./test_data.csv',format='csv',fields=[('id',Id),('text',Text)],\n",
        "                                           skip_header=True)"
      ],
      "execution_count": 0,
      "outputs": []
    },
    {
      "cell_type": "code",
      "metadata": {
        "id": "htF1kiy5XlTP",
        "colab_type": "code",
        "outputId": "19546a85-958e-4aae-ddab-cded6d6271e5",
        "colab": {
          "base_uri": "https://localhost:8080/",
          "height": 213
        }
      },
      "source": [
        "from gensim.models import Word2Vec\n",
        "# https://datascience.stackexchange.com/questions/10695/how-to-initialize-a-new-word2vec-model-with-pre-trained-model-weights\n",
        "# pretrained model을 활용하는데\n",
        "# 하고자 하는 수순\n",
        "# 1. 일단 model을 구축한다(train은 하지 말고, 일단 vocab만 만들어 둔다)\n",
        "# 2. pretrained model을 가져와서 기존의 model과 intersect를 진행 (기존 model의 vocab만 활용, 그리고 pretrained model의 weight만 활용)\n",
        "# 3. model 학습\n",
        "\n",
        "#1\n",
        "model = Word2Vec(size=300,window=3,min_count=3)\n",
        "model.build_vocab(sentence_tokenized)\n",
        "print(len(model.wv.vocab)) # 4107\n",
        "\n",
        "#2\n",
        "model.intersect_word2vec_format('https://s3.amazonaws.com/dl4j-distribution/GoogleNews-vectors-negative300.bin.gz', binary=True)\n",
        "print(len(model.wv.vocab))\n",
        "\n",
        "print(model.wv.most_similar('disaster'))\n",
        "print(model.wv.vectors.shape)\n",
        "\n",
        "#3\n",
        "# If sentences is the same corpus that was provided to build_vocab() earlier, \n",
        "# you can simply use total_examples=self.corpus_count.\n",
        "model.train(sentence_tokenized,total_examples=model.corpus_count,epochs=500)\n",
        "print(model.wv.most_similar('disaster'))\n",
        "print(model.wv.vectors.shape)\n",
        "# word2vec 저장\n",
        "model.wv.save_word2vec_format('./wv')"
      ],
      "execution_count": 0,
      "outputs": [
        {
          "output_type": "stream",
          "text": [
            "4107\n"
          ],
          "name": "stdout"
        },
        {
          "output_type": "stream",
          "text": [
            "/usr/local/lib/python3.6/dist-packages/smart_open/smart_open_lib.py:410: UserWarning: This function is deprecated, use smart_open.open instead. See the migration notes for details: https://github.com/RaRe-Technologies/smart_open/blob/master/README.rst#migrating-to-the-new-open-function\n",
            "  'See the migration notes for details: %s' % _MIGRATION_NOTES_URL\n"
          ],
          "name": "stderr"
        },
        {
          "output_type": "stream",
          "text": [
            "4107\n",
            "[('disasters', 0.7751655578613281), ('calamity', 0.7409837245941162), ('catastrophe', 0.7316238880157471), ('tragedy', 0.5871202945709229), ('devastation', 0.5772955417633057), ('earthquake', 0.5394471883773804), ('tsunami', 0.5323168635368347), ('floods', 0.5304961204528809), ('catastrophic', 0.5219818353652954), ('flood', 0.5129648447036743)]\n",
            "(4107, 300)\n"
          ],
          "name": "stdout"
        },
        {
          "output_type": "stream",
          "text": [
            "/usr/local/lib/python3.6/dist-packages/gensim/matutils.py:737: FutureWarning: Conversion of the second argument of issubdtype from `int` to `np.signedinteger` is deprecated. In future, it will be treated as `np.int64 == np.dtype(int).type`.\n",
            "  if np.issubdtype(vec.dtype, np.int):\n"
          ],
          "name": "stderr"
        },
        {
          "output_type": "stream",
          "text": [
            "[('disasters', 0.7751655578613281), ('calamity', 0.7409837245941162), ('catastrophe', 0.7316238880157471), ('tragedy', 0.5871202945709229), ('devastation', 0.5772955417633057), ('earthquake', 0.5394471883773804), ('tsunami', 0.5323168635368347), ('floods', 0.5304961204528809), ('catastrophic', 0.5219818353652954), ('flood', 0.5129648447036743)]\n",
            "(4107, 300)\n"
          ],
          "name": "stdout"
        }
      ]
    },
    {
      "cell_type": "code",
      "metadata": {
        "id": "53YfbdRgYeBo",
        "colab_type": "code",
        "colab": {}
      },
      "source": [
        "# torchtext로 구성해낸다.\n",
        "# 관건 align 작업\n",
        "vectors=torchtext.vocab.Vectors('wv',cache='./') #'./wv'모델을 읽어온다.\n",
        "# 안될 때엔 변수 싹 다 지우고 다시 해라..."
      ],
      "execution_count": 0,
      "outputs": []
    },
    {
      "cell_type": "code",
      "metadata": {
        "id": "TvL41yF7YrYs",
        "colab_type": "code",
        "colab": {}
      },
      "source": [
        "# load embeddings using torchtext\n",
        "Text.build_vocab(train_data_1,min_freq=3,vectors=vectors)"
      ],
      "execution_count": 0,
      "outputs": []
    },
    {
      "cell_type": "code",
      "metadata": {
        "id": "AVgZHz1BYv3G",
        "colab_type": "code",
        "outputId": "9fccc438-e205-49da-ac8c-1d76abfe0613",
        "colab": {
          "base_uri": "https://localhost:8080/",
          "height": 34
        }
      },
      "source": [
        "# 다 같은 것을 입증.\n",
        "# freq가 달라도, vectors에 있던 것만 들어가게 된다.\n",
        "result=[]\n",
        "for vocab,_ in vectors.stoi.items():\n",
        "    r=vectors.vectors[_]==Text.vocab.vectors[Text.vocab.stoi[vocab]]\n",
        "    result.append(np.all(r.numpy()))\n",
        "print(np.all(np.array(result)))"
      ],
      "execution_count": 0,
      "outputs": [
        {
          "output_type": "stream",
          "text": [
            "True\n"
          ],
          "name": "stdout"
        }
      ]
    },
    {
      "cell_type": "code",
      "metadata": {
        "id": "ia7Mmt1tY1w-",
        "colab_type": "code",
        "colab": {}
      },
      "source": [
        "batch_size=256\n",
        "train_loader=torchtext.data.Iterator(train_data_1,batch_size=batch_size)\n",
        "val_loader=torchtext.data.Iterator(val_data_1,batch_size=batch_size)\n",
        "test_loader=torchtext.data.Iterator(test_data_1,batch_size=batch_size)\n",
        "batch=next(iter(train_loader))"
      ],
      "execution_count": 0,
      "outputs": []
    },
    {
      "cell_type": "code",
      "metadata": {
        "id": "zEv87vlKnJYB",
        "colab_type": "code",
        "colab": {}
      },
      "source": [
        "def for_sign(input):\n",
        "    # input <- tensor, array 등\n",
        "    # 부호 즉 -1, 1 만을 내뱉는다. 같은 shape로\n",
        "    input=input.to('cpu')\n",
        "    result=torch.where(input>0,torch.LongTensor([1]),torch.LongTensor([-1]))\n",
        "    result[torch.where(input==0)]=0\n",
        "    return result.to(device)"
      ],
      "execution_count": 0,
      "outputs": []
    },
    {
      "cell_type": "code",
      "metadata": {
        "id": "W0zTPTXLYz9v",
        "colab_type": "code",
        "colab": {}
      },
      "source": [
        "class cnn_sentiment(nn.Module):\n",
        "    def __init__(self,num_of_filter,s=3):\n",
        "        super().__init__()\n",
        "        self.embedd=nn.Embedding(Text.vocab.vectors.shape[0],Text.vocab.vectors.shape[1],padding_idx=1).from_pretrained(Text.vocab.vectors)\n",
        "        self.conv1=nn.Sequential(nn.Conv1d(Text.vocab.vectors.shape[1],num_of_filter,2,1),nn.ReLU())\n",
        "        self.conv2=nn.Sequential(nn.Conv1d(Text.vocab.vectors.shape[1],num_of_filter,3,1),nn.ReLU())\n",
        "        self.conv3=nn.Sequential(nn.Conv1d(Text.vocab.vectors.shape[1],num_of_filter,4,1),nn.ReLU())\n",
        "        self.dropout=nn.Dropout(0.5)\n",
        "        self.fc=nn.Sequential(nn.Linear(3*num_of_filter,2),nn.ReLU())\n",
        "        self.s=s\n",
        "    def forward(self,input):\n",
        "        x=self.embedd(input) # x shape : [n,seq_len,embedding_dim]\n",
        "        x1=self.conv1(x.transpose(1,2)) # input shape in here : [n,embedding_dim,seq_len] \n",
        "        x2=self.conv2(x.transpose(1,2))\n",
        "        x3=self.conv3(x.transpose(1,2)) # output shape: [n,num_of_filter,(seq_len-h)+1]\n",
        "        m1=x1.max(dim=-1)[0]\n",
        "        m2=x2.max(dim=-1)[0]\n",
        "        m3=x3.max(dim=-1)[0] # output shape : [n,num_filter]\n",
        "        X=torch.cat([m1,m2,m3],1) # output shape : [n,num_of_filter*3]\n",
        "        # weight의 element**2가 3보다 크면, 그냥 3으로 둔다.\n",
        "        self.fc[0].weight.data[self.fc[0].weight.data**2>self.s]=for_sign(self.fc[0].weight.data[self.fc[0].weight.data**2>self.s])*np.sqrt(self.s)\n",
        "        X=self.dropout(X)\n",
        "        result=self.fc(X)\n",
        "        return result\n",
        "        "
      ],
      "execution_count": 0,
      "outputs": []
    },
    {
      "cell_type": "code",
      "metadata": {
        "id": "el0VoD0Rj6n7",
        "colab_type": "code",
        "colab": {}
      },
      "source": [
        "# gru로 실행한다\n",
        "class gru_sentiment(nn.Module):\n",
        "    def __init__(self,s=3):\n",
        "        super().__init__()\n",
        "        self.embedd=nn.Embedding(Text.vocab.vectors.shape[0],Text.vocab.vectors.shape[1],padding_idx=1).from_pretrained(Text.vocab.vectors)\n",
        "        self.gru=nn.GRU(Text.vocab.vectors.shape[1],Text.vocab.vectors.shape[1],batch_first=True,bidirectional=True) # input : n,seq_len,embedding_dim -> # output : n,seq_len,2*embedding_dim\n",
        "        self.fc=nn.Sequential(nn.Linear(2*Text.vocab.vectors.shape[1],2),nn.ReLU())\n",
        "        self.s=s\n",
        "        self.dropout=nn.Dropout(0.5)\n",
        "    def forward(self,input):\n",
        "        x=self.embedd(input) # x shape : [n,seq_len,embedding_dim]\n",
        "        x,_=self.gru(x) # x shape : n,seq_len,2*embedding_dim\n",
        "        # weight의 element**2가 3보다 크면, 그냥 3으로 둔다.\n",
        "        self.fc[0].weight.data[self.fc[0].weight.data**2>self.s]=for_sign(self.fc[0].weight.data[self.fc[0].weight.data**2>self.s])*np.sqrt(self.s)\n",
        "        x=x.mean(dim=1)\n",
        "        x=self.dropout(x)\n",
        "        result=self.fc(x)\n",
        "        return result\n",
        "        "
      ],
      "execution_count": 0,
      "outputs": []
    },
    {
      "cell_type": "code",
      "metadata": {
        "id": "WdLGyqJdy6hk",
        "colab_type": "code",
        "colab": {}
      },
      "source": [
        "# lstm으로 실행\n",
        "class lstm_sentiment(nn.Module):\n",
        "    def __init__(self,s=3):\n",
        "        super().__init__()\n",
        "        self.embedd=nn.Embedding(Text.vocab.vectors.shape[0],Text.vocab.vectors.shape[1],padding_idx=1).from_pretrained(Text.vocab.vectors)\n",
        "        self.lstm=nn.LSTM(Text.vocab.vectors.shape[1],Text.vocab.vectors.shape[1],batch_first=True,bidirectional=True) # input : n,seq_len,embedding_dim -> # output : n,seq_len,2*embedding_dim\n",
        "        self.fc=nn.Sequential(nn.Linear(2*Text.vocab.vectors.shape[1],2),nn.ReLU())\n",
        "        self.s=s\n",
        "        self.dropout=nn.Dropout(0.5)\n",
        "    def forward(self,input):\n",
        "        x=self.embedd(input) # x shape : [n,seq_len,embedding_dim]\n",
        "        x,_=self.lstm(x) # x shape : n,seq_len,2*embedding_dim\n",
        "        # weight의 element**2가 3보다 크면, 그냥 3으로 둔다.\n",
        "        self.fc[0].weight.data[self.fc[0].weight.data**2>self.s]=for_sign(self.fc[0].weight.data[self.fc[0].weight.data**2>self.s])*np.sqrt(self.s)\n",
        "        x=x.mean(dim=1)\n",
        "        x=self.dropout(x)\n",
        "        result=self.fc(x)\n",
        "        return result\n",
        "         "
      ],
      "execution_count": 0,
      "outputs": []
    },
    {
      "cell_type": "code",
      "metadata": {
        "id": "IrvRKOhwdawu",
        "colab_type": "code",
        "outputId": "babfa4b5-1bd8-42c2-fc2b-047e55dd661c",
        "colab": {
          "base_uri": "https://localhost:8080/",
          "height": 566
        }
      },
      "source": [
        "# 학습을 시켜보자\n",
        "import time \n",
        "now_time=time.time()\n",
        "epochs=200\n",
        "device='cuda' if torch.cuda.is_available else 'cpu'\n",
        "cost=[]\n",
        "acc=[]\n",
        "models=cnn_sentiment(100).to(device)\n",
        "optimizer=torch.optim.Adam(models.parameters(),0.001,weight_decay=1e-3)\n",
        "for epoch in range(epochs):\n",
        "    if epoch%100==0:\n",
        "        print(epoch)\n",
        "    avg_cost=0\n",
        "    avg_acc=0\n",
        "    n=0\n",
        "    for wow in train_loader:\n",
        "        x=wow.text.to(device)\n",
        "        y=wow.target.to(device)\n",
        "        optimizer.zero_grad()\n",
        "        predict=models.forward(x)\n",
        "        loss=F.cross_entropy(predict,y)\n",
        "        ac=(predict.argmax(dim=1)==y).float().mean()\n",
        "        avg_cost+=loss.item()\n",
        "        avg_acc+=ac\n",
        "        n+=1\n",
        "        loss.backward()\n",
        "        optimizer.step()\n",
        "    avg_cost/=n\n",
        "    avg_acc/=n\n",
        "    cost.append(avg_cost)\n",
        "    acc.append(avg_acc)\n",
        "plt.plot(acc,label='acc')\n",
        "plt.show()\n",
        "plt.plot(cost,label='cost')\n",
        "plt.show()\n",
        "print(time.time()-now_time)"
      ],
      "execution_count": 50,
      "outputs": [
        {
          "output_type": "stream",
          "text": [
            "0\n",
            "100\n"
          ],
          "name": "stdout"
        },
        {
          "output_type": "display_data",
          "data": {
            "image/png": "[encoded data removed]",
            "text/plain": [
              "<Figure size 432x288 with 1 Axes>"
            ]
          },
          "metadata": {
            "tags": []
          }
        },
        {
          "output_type": "display_data",
          "data": {
            "image/png": "[encoded data removed]",
            "text/plain": [
              "<Figure size 432x288 with 1 Axes>"
            ]
          },
          "metadata": {
            "tags": []
          }
        },
        {
          "output_type": "stream",
          "text": [
            "53.14859199523926\n"
          ],
          "name": "stdout"
        }
      ]
    },
    {
      "cell_type": "code",
      "metadata": {
        "id": "A-Gs19OB3KOU",
        "colab_type": "code",
        "colab": {
          "base_uri": "https://localhost:8080/",
          "height": 70
        },
        "outputId": "413313f2-948a-4fee-c826-0338b6a15742"
      },
      "source": [
        "with torch.no_grad():\n",
        "    models.eval()\n",
        "    avg_cost=0\n",
        "    avg_acc=0\n",
        "    n=0\n",
        "    for w in val_loader:\n",
        "        x=w.text.to(device)\n",
        "        y=w.target.to(device)\n",
        "        predict=models.forward(x)\n",
        "        loss=F.cross_entropy(predict,y)\n",
        "        ac=(predict.argmax(dim=1)==y).float().mean()\n",
        "        avg_cost+=loss.item()\n",
        "        avg_acc+=ac\n",
        "        n+=1\n",
        "    avg_cost/=n\n",
        "    avg_acc/=n\n",
        "    print('val')\n",
        "    print(avg_cost)\n",
        "    print(avg_acc)"
      ],
      "execution_count": 51,
      "outputs": [
        {
          "output_type": "stream",
          "text": [
            "val\n",
            "0.5947390993436178\n",
            "tensor(0.7697, device='cuda:0')\n"
          ],
          "name": "stdout"
        }
      ]
    },
    {
      "cell_type": "code",
      "metadata": {
        "id": "o5xVa8ZMwv9p",
        "colab_type": "code",
        "outputId": "6c61a80d-bf27-449e-fbb9-705f4b598884",
        "colab": {
          "base_uri": "https://localhost:8080/",
          "height": 1000
        }
      },
      "source": [
        "# 학습을 시켜보자\n",
        "now_time=time.time()\n",
        "epochs=200\n",
        "device='cuda' if torch.cuda.is_available else 'cpu'\n",
        "cost=[]\n",
        "acc=[]\n",
        "models=gru_sentiment().to(device)\n",
        "optimizer=torch.optim.Adam(models.parameters(),0.001,weight_decay=1e-3)\n",
        "for epoch in range(epochs):\n",
        "    if epoch%100==0:\n",
        "        print(epoch)\n",
        "    avg_cost=0\n",
        "    avg_acc=0\n",
        "    n=0\n",
        "    for wow in train_loader:\n",
        "        x=wow.text.to(device)\n",
        "        y=wow.target.to(device)\n",
        "        optimizer.zero_grad()\n",
        "        predict=models.forward(x)\n",
        "        loss=F.cross_entropy(predict,y)\n",
        "        ac=(predict.argmax(dim=1)==y).float().mean()\n",
        "        avg_cost+=loss.item()\n",
        "        avg_acc+=ac\n",
        "        n+=1\n",
        "        loss.backward()\n",
        "        optimizer.step()\n",
        "    avg_cost/=n\n",
        "    avg_acc/=n\n",
        "    cost.append(avg_cost)\n",
        "    acc.append(avg_acc)\n",
        "plt.plot(acc,label='acc')\n",
        "plt.show()\n",
        "plt.plot(cost,label='cost')\n",
        "plt.show()\n",
        "plt.plot(acc,label='acc')\n",
        "plt.show()\n",
        "plt.plot(cost,label='cost')\n",
        "plt.show()\n",
        "print(time.time()-now_time)"
      ],
      "execution_count": 52,
      "outputs": [
        {
          "output_type": "stream",
          "text": [
            "0\n",
            "100\n"
          ],
          "name": "stdout"
        },
        {
          "output_type": "display_data",
          "data": {
            "image/png": "[encoded data removed]",
            "text/plain": [
              "<Figure size 432x288 with 1 Axes>"
            ]
          },
          "metadata": {
            "tags": []
          }
        },
        {
          "output_type": "display_data",
          "data": {
            "image/png": "[encoded data removed]",
            "text/plain": [
              "<Figure size 432x288 with 1 Axes>"
            ]
          },
          "metadata": {
            "tags": []
          }
        },
        {
          "output_type": "display_data",
          "data": {
            "image/png": "[encoded data removed]",
            "text/plain": [
              "<Figure size 432x288 with 1 Axes>"
            ]
          },
          "metadata": {
            "tags": []
          }
        },
        {
          "output_type": "display_data",
          "data": {
            "image/png": "[encoded data removed]",
            "text/plain": [
              "<Figure size 432x288 with 1 Axes>"
            ]
          },
          "metadata": {
            "tags": []
          }
        },
        {
          "output_type": "stream",
          "text": [
            "126.48510980606079\n"
          ],
          "name": "stdout"
        }
      ]
    },
    {
      "cell_type": "code",
      "metadata": {
        "id": "G2W2ZSTG3Trf",
        "colab_type": "code",
        "colab": {
          "base_uri": "https://localhost:8080/",
          "height": 70
        },
        "outputId": "f07cc25b-b452-4cfa-fdce-d4b719bda162"
      },
      "source": [
        "with torch.no_grad():\n",
        "    models.eval()\n",
        "    avg_cost=0\n",
        "    avg_acc=0\n",
        "    n=0\n",
        "    for w in val_loader:\n",
        "        x=w.text.to(device)\n",
        "        y=w.target.to(device)\n",
        "        predict=models.forward(x)\n",
        "        loss=F.cross_entropy(predict,y)\n",
        "        ac=(predict.argmax(dim=1)==y).float().mean()\n",
        "        avg_cost+=loss.item()\n",
        "        avg_acc+=ac\n",
        "        n+=1\n",
        "    avg_cost/=n\n",
        "    avg_acc/=n\n",
        "    print('val')\n",
        "    print(avg_cost)\n",
        "    print(avg_acc)"
      ],
      "execution_count": 53,
      "outputs": [
        {
          "output_type": "stream",
          "text": [
            "val\n",
            "0.7616377472877502\n",
            "tensor(0.7869, device='cuda:0')\n"
          ],
          "name": "stdout"
        }
      ]
    },
    {
      "cell_type": "code",
      "metadata": {
        "id": "6EH298rt09oB",
        "colab_type": "code",
        "colab": {
          "base_uri": "https://localhost:8080/",
          "height": 1000
        },
        "outputId": "1978ad39-c23a-41cf-afc7-9349e3dd7d0e"
      },
      "source": [
        "# 학습을 시켜보자\n",
        "now_time=time.time()\n",
        "epochs=200\n",
        "device='cuda' if torch.cuda.is_available else 'cpu'\n",
        "cost=[]\n",
        "acc=[]\n",
        "models=lstm_sentiment().to(device)\n",
        "optimizer=torch.optim.Adam(models.parameters(),0.001,weight_decay=1e-3)\n",
        "for epoch in range(epochs):\n",
        "    if epoch%100==0:\n",
        "        print(epoch)\n",
        "    avg_cost=0\n",
        "    avg_acc=0\n",
        "    n=0\n",
        "    for wow in train_loader:\n",
        "        x=wow.text.to(device)\n",
        "        y=wow.target.to(device)\n",
        "        optimizer.zero_grad()\n",
        "        predict=models.forward(x)\n",
        "        loss=F.cross_entropy(predict,y)\n",
        "        ac=(predict.argmax(dim=1)==y).float().mean()\n",
        "        avg_cost+=loss.item()\n",
        "        avg_acc+=ac\n",
        "        n+=1\n",
        "        loss.backward()\n",
        "        optimizer.step()\n",
        "    avg_cost/=n\n",
        "    avg_acc/=n\n",
        "    cost.append(avg_cost)\n",
        "    acc.append(avg_acc)\n",
        "print(time.time()-now_time)\n",
        "plt.plot(acc,label='acc')\n",
        "plt.show()\n",
        "plt.plot(cost,label='cost')\n",
        "plt.show()\n",
        "plt.plot(acc,label='acc')\n",
        "plt.show()\n",
        "plt.plot(cost,label='cost')\n",
        "plt.show()"
      ],
      "execution_count": 54,
      "outputs": [
        {
          "output_type": "stream",
          "text": [
            "0\n",
            "100\n",
            "153.830011844635\n"
          ],
          "name": "stdout"
        },
        {
          "output_type": "display_data",
          "data": {
            "image/png": "[encoded data removed]",
            "text/plain": [
              "<Figure size 432x288 with 1 Axes>"
            ]
          },
          "metadata": {
            "tags": []
          }
        },
        {
          "output_type": "display_data",
          "data": {
            "image/png": "[encoded data removed]",
            "text/plain": [
              "<Figure size 432x288 with 1 Axes>"
            ]
          },
          "metadata": {
            "tags": []
          }
        },
        {
          "output_type": "display_data",
          "data": {
            "image/png": "[encoded data removed]",
            "text/plain": [
              "<Figure size 432x288 with 1 Axes>"
            ]
          },
          "metadata": {
            "tags": []
          }
        },
        {
          "output_type": "display_data",
          "data": {
            "image/png": "[encoded data removed]",
            "text/plain": [
              "<Figure size 432x288 with 1 Axes>"
            ]
          },
          "metadata": {
            "tags": []
          }
        }
      ]
    },
    {
      "cell_type": "code",
      "metadata": {
        "id": "QotaYFBF3Vvn",
        "colab_type": "code",
        "colab": {
          "base_uri": "https://localhost:8080/",
          "height": 70
        },
        "outputId": "21becbcc-8283-440e-9df1-8c3e3e66b558"
      },
      "source": [
        "with torch.no_grad():\n",
        "    models.eval()\n",
        "    avg_cost=0\n",
        "    avg_acc=0\n",
        "    n=0\n",
        "    for w in val_loader:\n",
        "        x=w.text.to(device)\n",
        "        y=w.target.to(device)\n",
        "        predict=models.forward(x)\n",
        "        loss=F.cross_entropy(predict,y)\n",
        "        ac=(predict.argmax(dim=1)==y).float().mean()\n",
        "        avg_cost+=loss.item()\n",
        "        avg_acc+=ac\n",
        "        n+=1\n",
        "    avg_cost/=n\n",
        "    avg_acc/=n\n",
        "    print('val')\n",
        "    print(avg_cost)\n",
        "    print(avg_acc)"
      ],
      "execution_count": 55,
      "outputs": [
        {
          "output_type": "stream",
          "text": [
            "val\n",
            "0.7919095555941263\n",
            "tensor(0.7499, device='cuda:0')\n"
          ],
          "name": "stdout"
        }
      ]
    }
  ]
}